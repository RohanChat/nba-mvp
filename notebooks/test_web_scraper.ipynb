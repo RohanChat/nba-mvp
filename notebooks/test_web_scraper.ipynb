{
 "cells": [
  {
   "cell_type": "code",
   "execution_count": 12,
   "metadata": {},
   "outputs": [
    {
     "name": "stdout",
     "output_type": "stream",
     "text": [
      "Collecting basketball_reference_web_scraper\n",
      "  Downloading basketball_reference_web_scraper-4.15.3-py3-none-any.whl (25 kB)\n",
      "Collecting lxml<6.0.0,>=5.1.0\n",
      "  Downloading lxml-5.3.1-cp311-cp311-macosx_10_9_x86_64.whl (4.4 MB)\n",
      "\u001b[2K     \u001b[90m━━━━━━━━━━━━━━━━━━━━━━━━━━━━━━━━━━━━━━━━\u001b[0m \u001b[32m4.4/4.4 MB\u001b[0m \u001b[31m35.2 MB/s\u001b[0m eta \u001b[36m0:00:00\u001b[0m00:01\u001b[0m00:01\u001b[0m\n",
      "\u001b[?25hRequirement already satisfied: pytz<2025.0,>=2024.1 in /usr/local/lib/python3.11/site-packages (from basketball_reference_web_scraper) (2024.2)\n",
      "Requirement already satisfied: requests<3.0.0,>=2.31.0 in /usr/local/lib/python3.11/site-packages (from basketball_reference_web_scraper) (2.32.3)\n",
      "Requirement already satisfied: charset-normalizer<4,>=2 in /usr/local/lib/python3.11/site-packages (from requests<3.0.0,>=2.31.0->basketball_reference_web_scraper) (3.4.1)\n",
      "Requirement already satisfied: idna<4,>=2.5 in /usr/local/lib/python3.11/site-packages (from requests<3.0.0,>=2.31.0->basketball_reference_web_scraper) (3.10)\n",
      "Requirement already satisfied: urllib3<3,>=1.21.1 in /usr/local/lib/python3.11/site-packages (from requests<3.0.0,>=2.31.0->basketball_reference_web_scraper) (2.3.0)\n",
      "Requirement already satisfied: certifi>=2017.4.17 in /usr/local/lib/python3.11/site-packages (from requests<3.0.0,>=2.31.0->basketball_reference_web_scraper) (2025.1.31)\n",
      "Installing collected packages: lxml, basketball_reference_web_scraper\n",
      "Successfully installed basketball_reference_web_scraper-4.15.3 lxml-5.3.1\n",
      "\n",
      "\u001b[1m[\u001b[0m\u001b[34;49mnotice\u001b[0m\u001b[1;39;49m]\u001b[0m\u001b[39;49m A new release of pip available: \u001b[0m\u001b[31;49m22.3\u001b[0m\u001b[39;49m -> \u001b[0m\u001b[32;49m25.0.1\u001b[0m\n",
      "\u001b[1m[\u001b[0m\u001b[34;49mnotice\u001b[0m\u001b[1;39;49m]\u001b[0m\u001b[39;49m To update, run: \u001b[0m\u001b[32;49mpython3.11 -m pip install --upgrade pip\u001b[0m\n",
      "Collecting poetry\n",
      "  Downloading poetry-2.1.1-py3-none-any.whl (277 kB)\n",
      "\u001b[2K     \u001b[90m━━━━━━━━━━━━━━━━━━━━━━━━━━━━━━━━━━━━━━━\u001b[0m \u001b[32m277.7/277.7 kB\u001b[0m \u001b[31m6.4 MB/s\u001b[0m eta \u001b[36m0:00:00\u001b[0m00:01\u001b[0m\n",
      "\u001b[?25hCollecting build<2.0.0,>=1.2.1\n",
      "  Downloading build-1.2.2.post1-py3-none-any.whl (22 kB)\n",
      "Collecting cachecontrol[filecache]<0.15.0,>=0.14.0\n",
      "  Downloading cachecontrol-0.14.2-py3-none-any.whl (21 kB)\n",
      "Collecting cleo<3.0.0,>=2.1.0\n",
      "  Downloading cleo-2.1.0-py3-none-any.whl (78 kB)\n",
      "\u001b[2K     \u001b[90m━━━━━━━━━━━━━━━━━━━━━━━━━━━━━━━━━━━━━━━━\u001b[0m \u001b[32m78.7/78.7 kB\u001b[0m \u001b[31m7.0 MB/s\u001b[0m eta \u001b[36m0:00:00\u001b[0m\n",
      "\u001b[?25hCollecting dulwich<0.23.0,>=0.22.6\n",
      "  Downloading dulwich-0.22.8-py3-none-any.whl (273 kB)\n",
      "\u001b[2K     \u001b[90m━━━━━━━━━━━━━━━━━━━━━━━━━━━━━━━━━━━━━━\u001b[0m \u001b[32m273.1/273.1 kB\u001b[0m \u001b[31m24.7 MB/s\u001b[0m eta \u001b[36m0:00:00\u001b[0m\n",
      "\u001b[?25hRequirement already satisfied: fastjsonschema<3.0.0,>=2.18.0 in /usr/local/lib/python3.11/site-packages (from poetry) (2.21.1)\n",
      "Collecting findpython<0.7.0,>=0.6.2\n",
      "  Downloading findpython-0.6.3-py3-none-any.whl (20 kB)\n",
      "Collecting installer<0.8.0,>=0.7.0\n",
      "  Downloading installer-0.7.0-py3-none-any.whl (453 kB)\n",
      "\u001b[2K     \u001b[90m━━━━━━━━━━━━━━━━━━━━━━━━━━━━━━━━━━━━━━\u001b[0m \u001b[32m453.8/453.8 kB\u001b[0m \u001b[31m33.4 MB/s\u001b[0m eta \u001b[36m0:00:00\u001b[0m\n",
      "\u001b[?25hCollecting keyring<26.0.0,>=25.1.0\n",
      "  Downloading keyring-25.6.0-py3-none-any.whl (39 kB)\n",
      "Requirement already satisfied: packaging>=24.0 in /Users/onrmmm78/Library/Python/3.11/lib/python/site-packages (from poetry) (24.2)\n",
      "Collecting pbs-installer[download,install]<2026.0.0,>=2025.1.6\n",
      "  Downloading pbs_installer-2025.3.17-py3-none-any.whl (53 kB)\n",
      "\u001b[2K     \u001b[90m━━━━━━━━━━━━━━━━━━━━━━━━━━━━━━━━━━━━━━━━\u001b[0m \u001b[32m53.3/53.3 kB\u001b[0m \u001b[31m6.2 MB/s\u001b[0m eta \u001b[36m0:00:00\u001b[0m\n",
      "\u001b[?25hCollecting pkginfo<2.0,>=1.12\n",
      "  Downloading pkginfo-1.12.1.2-py3-none-any.whl (32 kB)\n",
      "Requirement already satisfied: platformdirs<5,>=3.0.0 in /Users/onrmmm78/Library/Python/3.11/lib/python/site-packages (from poetry) (4.3.6)\n",
      "Collecting poetry-core==2.1.1\n",
      "  Downloading poetry_core-2.1.1-py3-none-any.whl (331 kB)\n",
      "\u001b[2K     \u001b[90m━━━━━━━━━━━━━━━━━━━━━━━━━━━━━━━━━━━━━━\u001b[0m \u001b[32m331.2/331.2 kB\u001b[0m \u001b[31m21.5 MB/s\u001b[0m eta \u001b[36m0:00:00\u001b[0m\n",
      "\u001b[?25hCollecting pyproject-hooks<2.0.0,>=1.0.0\n",
      "  Downloading pyproject_hooks-1.2.0-py3-none-any.whl (10 kB)\n",
      "Requirement already satisfied: requests<3.0,>=2.26 in /usr/local/lib/python3.11/site-packages (from poetry) (2.32.3)\n",
      "Collecting requests-toolbelt<2.0.0,>=1.0.0\n",
      "  Downloading requests_toolbelt-1.0.0-py2.py3-none-any.whl (54 kB)\n",
      "\u001b[2K     \u001b[90m━━━━━━━━━━━━━━━━━━━━━━━━━━━━━━━━━━━━━━━━\u001b[0m \u001b[32m54.5/54.5 kB\u001b[0m \u001b[31m5.8 MB/s\u001b[0m eta \u001b[36m0:00:00\u001b[0m\n",
      "\u001b[?25hCollecting shellingham<2.0,>=1.5\n",
      "  Downloading shellingham-1.5.4-py2.py3-none-any.whl (9.8 kB)\n",
      "Collecting tomlkit<1.0.0,>=0.11.4\n",
      "  Downloading tomlkit-0.13.2-py3-none-any.whl (37 kB)\n",
      "Collecting trove-classifiers>=2022.5.19\n",
      "  Downloading trove_classifiers-2025.3.19.19-py3-none-any.whl (13 kB)\n",
      "Collecting virtualenv<21.0.0,>=20.26.6\n",
      "  Downloading virtualenv-20.29.3-py3-none-any.whl (4.3 MB)\n",
      "\u001b[2K     \u001b[90m━━━━━━━━━━━━━━━━━━━━━━━━━━━━━━━━━━━━━━━━\u001b[0m \u001b[32m4.3/4.3 MB\u001b[0m \u001b[31m44.3 MB/s\u001b[0m eta \u001b[36m0:00:00\u001b[0ma \u001b[36m0:00:01\u001b[0m\n",
      "\u001b[?25hCollecting xattr<2.0.0,>=1.0.0\n",
      "  Downloading xattr-1.1.4-cp311-cp311-macosx_10_9_x86_64.whl (18 kB)\n",
      "Collecting msgpack<2.0.0,>=0.5.2\n",
      "  Downloading msgpack-1.1.0-cp311-cp311-macosx_10_9_x86_64.whl (84 kB)\n",
      "\u001b[2K     \u001b[90m━━━━━━━━━━━━━━━━━━━━━━━━━━━━━━━━━━━━━━━━\u001b[0m \u001b[32m84.3/84.3 kB\u001b[0m \u001b[31m8.7 MB/s\u001b[0m eta \u001b[36m0:00:00\u001b[0m\n",
      "\u001b[?25hCollecting filelock>=3.8.0\n",
      "  Downloading filelock-3.18.0-py3-none-any.whl (16 kB)\n",
      "Collecting crashtest<0.5.0,>=0.4.1\n",
      "  Downloading crashtest-0.4.1-py3-none-any.whl (7.6 kB)\n",
      "Collecting rapidfuzz<4.0.0,>=3.0.0\n",
      "  Downloading rapidfuzz-3.12.2-cp311-cp311-macosx_10_9_x86_64.whl (2.0 MB)\n",
      "\u001b[2K     \u001b[90m━━━━━━━━━━━━━━━━━━━━━━━━━━━━━━━━━━━━━━━━\u001b[0m \u001b[32m2.0/2.0 MB\u001b[0m \u001b[31m30.5 MB/s\u001b[0m eta \u001b[36m0:00:00\u001b[0ma \u001b[36m0:00:01\u001b[0m\n",
      "\u001b[?25hRequirement already satisfied: urllib3>=1.25 in /usr/local/lib/python3.11/site-packages (from dulwich<0.23.0,>=0.22.6->poetry) (2.3.0)\n",
      "Collecting importlib_metadata>=4.11.4\n",
      "  Downloading importlib_metadata-8.6.1-py3-none-any.whl (26 kB)\n",
      "Collecting jaraco.classes\n",
      "  Downloading jaraco.classes-3.4.0-py3-none-any.whl (6.8 kB)\n",
      "Collecting jaraco.functools\n",
      "  Downloading jaraco.functools-4.1.0-py3-none-any.whl (10 kB)\n",
      "Collecting jaraco.context\n",
      "  Downloading jaraco.context-6.0.1-py3-none-any.whl (6.8 kB)\n",
      "Requirement already satisfied: httpx<1,>=0.27.0 in /usr/local/lib/python3.11/site-packages (from pbs-installer[download,install]<2026.0.0,>=2025.1.6->poetry) (0.28.1)\n",
      "Collecting zstandard>=0.21.0\n",
      "  Downloading zstandard-0.23.0-cp311-cp311-macosx_10_9_x86_64.whl (788 kB)\n",
      "\u001b[2K     \u001b[90m━━━━━━━━━━━━━━━━━━━━━━━━━━━━━━━━━━━━━━\u001b[0m \u001b[32m788.7/788.7 kB\u001b[0m \u001b[31m30.3 MB/s\u001b[0m eta \u001b[36m0:00:00\u001b[0m\n",
      "\u001b[?25hRequirement already satisfied: charset-normalizer<4,>=2 in /usr/local/lib/python3.11/site-packages (from requests<3.0,>=2.26->poetry) (3.4.1)\n",
      "Requirement already satisfied: idna<4,>=2.5 in /usr/local/lib/python3.11/site-packages (from requests<3.0,>=2.26->poetry) (3.10)\n",
      "Requirement already satisfied: certifi>=2017.4.17 in /usr/local/lib/python3.11/site-packages (from requests<3.0,>=2.26->poetry) (2025.1.31)\n",
      "Collecting distlib<1,>=0.3.7\n",
      "  Downloading distlib-0.3.9-py2.py3-none-any.whl (468 kB)\n",
      "\u001b[2K     \u001b[90m━━━━━━━━━━━━━━━━━━━━━━━━━━━━━━━━━━━━━━\u001b[0m \u001b[32m469.0/469.0 kB\u001b[0m \u001b[31m29.5 MB/s\u001b[0m eta \u001b[36m0:00:00\u001b[0m\n",
      "\u001b[?25hRequirement already satisfied: cffi>=1.16.0 in /usr/local/lib/python3.11/site-packages (from xattr<2.0.0,>=1.0.0->poetry) (1.17.1)\n",
      "Requirement already satisfied: pycparser in /usr/local/lib/python3.11/site-packages (from cffi>=1.16.0->xattr<2.0.0,>=1.0.0->poetry) (2.22)\n",
      "Requirement already satisfied: anyio in /usr/local/lib/python3.11/site-packages (from httpx<1,>=0.27.0->pbs-installer[download,install]<2026.0.0,>=2025.1.6->poetry) (4.9.0)\n",
      "Requirement already satisfied: httpcore==1.* in /usr/local/lib/python3.11/site-packages (from httpx<1,>=0.27.0->pbs-installer[download,install]<2026.0.0,>=2025.1.6->poetry) (1.0.7)\n",
      "Requirement already satisfied: h11<0.15,>=0.13 in /usr/local/lib/python3.11/site-packages (from httpcore==1.*->httpx<1,>=0.27.0->pbs-installer[download,install]<2026.0.0,>=2025.1.6->poetry) (0.14.0)\n",
      "Collecting zipp>=3.20\n",
      "  Downloading zipp-3.21.0-py3-none-any.whl (9.6 kB)\n",
      "Collecting more-itertools\n",
      "  Downloading more_itertools-10.6.0-py3-none-any.whl (63 kB)\n",
      "\u001b[2K     \u001b[90m━━━━━━━━━━━━━━━━━━━━━━━━━━━━━━━━━━━━━━━━\u001b[0m \u001b[32m63.0/63.0 kB\u001b[0m \u001b[31m6.7 MB/s\u001b[0m eta \u001b[36m0:00:00\u001b[0m\n",
      "\u001b[?25hCollecting backports.tarfile\n",
      "  Downloading backports.tarfile-1.2.0-py3-none-any.whl (30 kB)\n",
      "Requirement already satisfied: sniffio>=1.1 in /usr/local/lib/python3.11/site-packages (from anyio->httpx<1,>=0.27.0->pbs-installer[download,install]<2026.0.0,>=2025.1.6->poetry) (1.3.1)\n",
      "Requirement already satisfied: typing_extensions>=4.5 in /Users/onrmmm78/Library/Python/3.11/lib/python/site-packages (from anyio->httpx<1,>=0.27.0->pbs-installer[download,install]<2026.0.0,>=2025.1.6->poetry) (4.12.2)\n",
      "Installing collected packages: trove-classifiers, distlib, zstandard, zipp, tomlkit, shellingham, rapidfuzz, pyproject-hooks, poetry-core, pkginfo, pbs-installer, msgpack, more-itertools, installer, findpython, filelock, dulwich, crashtest, backports.tarfile, xattr, virtualenv, requests-toolbelt, jaraco.functools, jaraco.context, jaraco.classes, importlib_metadata, cleo, cachecontrol, build, keyring, poetry\n",
      "Successfully installed backports.tarfile-1.2.0 build-1.2.2.post1 cachecontrol-0.14.2 cleo-2.1.0 crashtest-0.4.1 distlib-0.3.9 dulwich-0.22.8 filelock-3.18.0 findpython-0.6.3 importlib_metadata-8.6.1 installer-0.7.0 jaraco.classes-3.4.0 jaraco.context-6.0.1 jaraco.functools-4.1.0 keyring-25.6.0 more-itertools-10.6.0 msgpack-1.1.0 pbs-installer-2025.3.17 pkginfo-1.12.1.2 poetry-2.1.1 poetry-core-2.1.1 pyproject-hooks-1.2.0 rapidfuzz-3.12.2 requests-toolbelt-1.0.0 shellingham-1.5.4 tomlkit-0.13.2 trove-classifiers-2025.3.19.19 virtualenv-20.29.3 xattr-1.1.4 zipp-3.21.0 zstandard-0.23.0\n",
      "\n",
      "\u001b[1m[\u001b[0m\u001b[34;49mnotice\u001b[0m\u001b[1;39;49m]\u001b[0m\u001b[39;49m A new release of pip available: \u001b[0m\u001b[31;49m22.3\u001b[0m\u001b[39;49m -> \u001b[0m\u001b[32;49m25.0.1\u001b[0m\n",
      "\u001b[1m[\u001b[0m\u001b[34;49mnotice\u001b[0m\u001b[1;39;49m]\u001b[0m\u001b[39;49m To update, run: \u001b[0m\u001b[32;49mpython3.11 -m pip install --upgrade pip\u001b[0m\n"
     ]
    }
   ],
   "source": [
    "!python3.11 -m pip install basketball_reference_web_scraper\n",
    "!python3.11 -m pip install poetry\n"
   ]
  },
  {
   "cell_type": "code",
   "execution_count": 10,
   "metadata": {},
   "outputs": [
    {
     "name": "stdout",
     "output_type": "stream",
     "text": [
      "\n",
      "\u001b[31;1mPoetry could not find a pyproject.toml file in /Users/onrmmm78/Desktop/nba-mvp/notebooks or its parents\u001b[39;22m\n"
     ]
    }
   ],
   "source": [
    "!poetry install"
   ]
  },
  {
   "cell_type": "code",
   "execution_count": 14,
   "metadata": {},
   "outputs": [],
   "source": [
    "from basketball_reference_web_scraper import client"
   ]
  },
  {
   "cell_type": "code",
   "execution_count": 18,
   "metadata": {},
   "outputs": [
    {
     "ename": "InvalidPlayerAndSeason",
     "evalue": "Player with identifier \"westbru01\" in season ending in 2020 is invalid",
     "output_type": "error",
     "traceback": [
      "\u001b[0;31m---------------------------------------------------------------------------\u001b[0m",
      "\u001b[0;31mInvalidPlayerAndSeason\u001b[0m                    Traceback (most recent call last)",
      "Cell \u001b[0;32mIn[18], line 1\u001b[0m\n\u001b[0;32m----> 1\u001b[0m \u001b[43mclient\u001b[49m\u001b[38;5;241;43m.\u001b[39;49m\u001b[43mregular_season_player_box_scores\u001b[49m\u001b[43m(\u001b[49m\n\u001b[1;32m      2\u001b[0m \u001b[43m    \u001b[49m\u001b[43mplayer_identifier\u001b[49m\u001b[38;5;241;43m=\u001b[39;49m\u001b[38;5;124;43m\"\u001b[39;49m\u001b[38;5;124;43mwestbru01\u001b[39;49m\u001b[38;5;124;43m\"\u001b[39;49m\u001b[43m,\u001b[49m\u001b[43m \u001b[49m\n\u001b[1;32m      3\u001b[0m \u001b[43m    \u001b[49m\u001b[43mseason_end_year\u001b[49m\u001b[38;5;241;43m=\u001b[39;49m\u001b[38;5;241;43m2020\u001b[39;49m\n\u001b[1;32m      4\u001b[0m \u001b[43m)\u001b[49m\n",
      "File \u001b[0;32m/usr/local/lib/python3.11/site-packages/basketball_reference_web_scraper/client.py:67\u001b[0m, in \u001b[0;36mregular_season_player_box_scores\u001b[0;34m(player_identifier, season_end_year, output_type, output_file_path, output_write_option, json_options, include_inactive_games)\u001b[0m\n\u001b[1;32m     65\u001b[0m \u001b[38;5;28;01mtry\u001b[39;00m:\n\u001b[1;32m     66\u001b[0m     http_service \u001b[38;5;241m=\u001b[39m HTTPService(parser\u001b[38;5;241m=\u001b[39mParserService())\n\u001b[0;32m---> 67\u001b[0m     values \u001b[38;5;241m=\u001b[39m \u001b[43mhttp_service\u001b[49m\u001b[38;5;241;43m.\u001b[39;49m\u001b[43mregular_season_player_box_scores\u001b[49m\u001b[43m(\u001b[49m\n\u001b[1;32m     68\u001b[0m \u001b[43m        \u001b[49m\u001b[43mplayer_identifier\u001b[49m\u001b[38;5;241;43m=\u001b[39;49m\u001b[43mplayer_identifier\u001b[49m\u001b[43m,\u001b[49m\n\u001b[1;32m     69\u001b[0m \u001b[43m        \u001b[49m\u001b[43mseason_end_year\u001b[49m\u001b[38;5;241;43m=\u001b[39;49m\u001b[43mseason_end_year\u001b[49m\u001b[43m,\u001b[49m\n\u001b[1;32m     70\u001b[0m \u001b[43m        \u001b[49m\u001b[43minclude_inactive_games\u001b[49m\u001b[38;5;241;43m=\u001b[39;49m\u001b[43minclude_inactive_games\u001b[49m\u001b[43m,\u001b[49m\n\u001b[1;32m     71\u001b[0m \u001b[43m    \u001b[49m\u001b[43m)\u001b[49m\n\u001b[1;32m     72\u001b[0m \u001b[38;5;28;01mexcept\u001b[39;00m requests\u001b[38;5;241m.\u001b[39mexceptions\u001b[38;5;241m.\u001b[39mHTTPError \u001b[38;5;28;01mas\u001b[39;00m http_error:\n\u001b[1;32m     73\u001b[0m     \u001b[38;5;28;01mif\u001b[39;00m http_error\u001b[38;5;241m.\u001b[39mresponse\u001b[38;5;241m.\u001b[39mstatus_code \u001b[38;5;241m==\u001b[39m requests\u001b[38;5;241m.\u001b[39mcodes\u001b[38;5;241m.\u001b[39minternal_server_error \\\n\u001b[1;32m     74\u001b[0m             \u001b[38;5;129;01mor\u001b[39;00m http_error\u001b[38;5;241m.\u001b[39mresponse\u001b[38;5;241m.\u001b[39mstatus_code \u001b[38;5;241m==\u001b[39m requests\u001b[38;5;241m.\u001b[39mcodes\u001b[38;5;241m.\u001b[39mnot_found:\n",
      "File \u001b[0;32m/usr/local/lib/python3.11/site-packages/basketball_reference_web_scraper/http_service.py:66\u001b[0m, in \u001b[0;36mHTTPService.regular_season_player_box_scores\u001b[0;34m(self, player_identifier, season_end_year, include_inactive_games)\u001b[0m\n\u001b[1;32m     64\u001b[0m page \u001b[38;5;241m=\u001b[39m PlayerSeasonBoxScoresPage(html\u001b[38;5;241m=\u001b[39mhtml\u001b[38;5;241m.\u001b[39mfromstring(response\u001b[38;5;241m.\u001b[39mcontent))\n\u001b[1;32m     65\u001b[0m \u001b[38;5;28;01mif\u001b[39;00m page\u001b[38;5;241m.\u001b[39mregular_season_box_scores_table \u001b[38;5;129;01mis\u001b[39;00m \u001b[38;5;28;01mNone\u001b[39;00m:\n\u001b[0;32m---> 66\u001b[0m     \u001b[38;5;28;01mraise\u001b[39;00m InvalidPlayerAndSeason(player_identifier\u001b[38;5;241m=\u001b[39mplayer_identifier, season_end_year\u001b[38;5;241m=\u001b[39mseason_end_year)\n\u001b[1;32m     68\u001b[0m \u001b[38;5;28;01mreturn\u001b[39;00m \u001b[38;5;28mself\u001b[39m\u001b[38;5;241m.\u001b[39mparser\u001b[38;5;241m.\u001b[39mparse_player_season_box_scores(box_scores\u001b[38;5;241m=\u001b[39mpage\u001b[38;5;241m.\u001b[39mregular_season_box_scores_table\u001b[38;5;241m.\u001b[39mrows, include_inactive_games\u001b[38;5;241m=\u001b[39minclude_inactive_games)\n",
      "\u001b[0;31mInvalidPlayerAndSeason\u001b[0m: Player with identifier \"westbru01\" in season ending in 2020 is invalid"
     ]
    }
   ],
   "source": [
    "client.regular_season_player_box_scores(\n",
    "    player_identifier=\"westbru01\", \n",
    "    season_end_year=2020\n",
    ")"
   ]
  }
 ],
 "metadata": {
  "kernelspec": {
   "display_name": "Python 3",
   "language": "python",
   "name": "python3"
  },
  "language_info": {
   "codemirror_mode": {
    "name": "ipython",
    "version": 3
   },
   "file_extension": ".py",
   "mimetype": "text/x-python",
   "name": "python",
   "nbconvert_exporter": "python",
   "pygments_lexer": "ipython3",
   "version": "3.11.0"
  }
 },
 "nbformat": 4,
 "nbformat_minor": 2
}
